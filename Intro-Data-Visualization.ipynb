{
 "cells": [
  {
   "attachments": {},
   "cell_type": "markdown",
   "metadata": {},
   "source": [
    "# DATA VISUALIZATION WITH PYTHON"
   ]
  },
  {
   "attachments": {},
   "cell_type": "markdown",
   "metadata": {},
   "source": [
    "## LESSON 1: INTRODUCTION TO DATA VISUALIZATION\n",
    "Data visualization refers to the process of creating graphical representations of data in order to effectively communicate information and insights. This can include charts, graphs, maps, and other types of visualizations that make it easier to understand patterns, trends, and relationships within large sets of data."
   ]
  },
  {
   "attachments": {},
   "cell_type": "markdown",
   "metadata": {},
   "source": [
    "There are two main reasons for creating visuals using data:\n",
    "\n",
    "- **Exploratory analysis** is done when you are searching for insights. These visualizations don't need to be perfect. You are using plots to find insights, but they don't need to be aesthetically appealing. You are the consumer of these plots, and you need to be able to find the answer to your questions from these plots.\n",
    "  \n",
    "- **Explanatory analysis** is done when you are providing your results for others. These visualizations need to provide you the emphasis necessary to convey your message. They should be accurate, insightful, and visually appealing."
   ]
  },
  {
   "attachments": {},
   "cell_type": "markdown",
   "metadata": {},
   "source": [
    "There are five steps to **Data Analysis**:\n",
    "\n",
    "1. **Gathering Data** - Collecting data from a variety of sources, including databases, CSV files, and web pages.\n",
    "2. **Cleaning Data** - Fixing errors, removing duplicates, and filling in missing data.\n",
    "3. **Exploring Data** - Finding patterns, anomalies, and outliers.\n",
    "4. **Analyzing Data** - Using statistical methods to answer questions. Here, we can use **Explanatory** or **exploratory** visuals.\n",
    "5. **Share** - Share your **Explanatory** Visuals"
   ]
  },
  {
   "attachments": {},
   "cell_type": "markdown",
   "metadata": {},
   "source": [
    "### Python Data Visualization Libraries\n",
    "In this course, you will make use of the following libraries for creating data visualizations:\n",
    "\n",
    "- **Matplotlib**: a versatile library for visualizations, but it can take some coding effort to put together common visualizations.\n",
    "- **Seaborn**: built on top of matplotlib, adds a number of functions to make common statistical visualizations easier to generate.\n",
    "- **pandas**: while this library includes some convenient methods for visualizing data that hook into matplotlib, we'll mainly use it for its main purpose as a general tool for working with data."
   ]
  },
  {
   "attachments": {},
   "cell_type": "markdown",
   "metadata": {},
   "source": [
    "## LESSON 2: DESIGN OF VISUALIZATIONS\n",
    "Before getting into the actual creation of visualizations later in the course, this lesson introduces design principles that will be useful both in exploratory and explanatory analysis. You will learn about different data types and ways of encoding data. You will also learn about properties of visualizations that can impact both the clarity of messaging as well as their accuracy."
   ]
  },
  {
   "attachments": {},
   "cell_type": "markdown",
   "metadata": {},
   "source": [
    "In this lesson, you'll learn about the following topics related to the design of data visualizations.\n",
    "\n",
    "- What makes a bad visual?\n",
    "- Levels of measurement and types of data\n",
    "- Continuous vs. discrete data\n",
    "- Identifying data types\n",
    "- What experts say about visual encodings\n",
    "- Chart Junk\n",
    "- Data-to-ink ratio\n",
    "- Design integrity\n",
    "- Using color and designing for color blindness\n",
    "- Shape, size, and other tools"
   ]
  },
  {
   "attachments": {},
   "cell_type": "markdown",
   "metadata": {},
   "source": [
    "Visuals can be bad if they:\n",
    "\n",
    "- Don't convey the desired message.\n",
    "- Are misleading."
   ]
  },
  {
   "attachments": {},
   "cell_type": "markdown",
   "metadata": {},
   "source": [
    "### The Four Levels of Measurement\n",
    "There are four levels of measurement that can be used to describe data:\n",
    "Qualitative or categorical types (non-numeric types)\n",
    "1. **Nominal data**: pure labels without inherent order (no label is intrinsically greater or less than any other). Example of nominal data include: \n",
    "   1. Gender\n",
    "   2. Type of a fruit\n",
    "   3. Nationality\n",
    "   4. Genre of a movie\n",
    "2. **Ordinal data**: labels with an intrinsic order or ranking (comparison operations can be made between values, but the magnitude of differences are not be well-defined). Example of ordinal data include:\n",
    "   1. Size of a shirt\n",
    "   2. Rating of a restaurant\n",
    "   3. Level of education\n",
    "   4. Letter grade in a class (A, B, C, D, F)\n",
    "   \n",
    "Quantitative or numeric types\n",
    "1. **Interval data**: numeric values where absolute differences are meaningful (addition and subtraction operations can be made)\n",
    "2. **Ratio data**: numeric values where relative differences are meaningful (multiplication and division operations can be made)"
   ]
  },
  {
   "attachments": {},
   "cell_type": "markdown",
   "metadata": {},
   "source": [
    "All quantitative-type variables also come in one of two varieties: **discrete** and **continuous**.\n",
    "\n",
    "- **Discrete** quantitative variables can only take on a specific set values at some maximum level of precision. Examples include:\n",
    "  - Number of children in a family, \n",
    "  - Number of times a person has been to the doctor\n",
    "  - Number of pages in a book\n",
    "  - Number of students in a class\n",
    "- **Continuous** quantitative variables can (hypothetically) take on values to any level of precision. Examples include:\n",
    "  - Height of a person\n",
    "  - Weight of a person\n",
    "  - Temperature\n",
    "  - Amount of money in a bank account"
   ]
  },
  {
   "attachments": {},
   "cell_type": "markdown",
   "metadata": {},
   "source": [
    "### Chart Junk\n",
    "Chart junk is any visual element that is not necessary for conveying the message of the visualization. Chart junk can include:\n",
    "- Gridlines\n",
    "- 3D effects\n",
    "- Drop shadows\n",
    "- Unnecessary text"
   ]
  },
  {
   "attachments": {},
   "cell_type": "markdown",
   "metadata": {},
   "source": [
    "### Data-to-Ink Ratio\n",
    "The data-to-ink ratio is a measure of how much of the visual is used to convey the data versus how much is used to convey the visual itself."
   ]
  },
  {
   "attachments": {},
   "cell_type": "markdown",
   "metadata": {},
   "source": [
    "### Design Integrity\n",
    "Design integrity is the idea that the visual should be designed to convey the message as clearly as possible. This means that the visual should be designed to be as simple as possible while still conveying the message. This can include:\n",
    "\n",
    "- Removing unnecessary elements\n",
    "- Using color and shape judiciously\n",
    "- Using a consistent style\n",
    "- Using a consistent color scheme"
   ]
  },
  {
   "attachments": {},
   "cell_type": "markdown",
   "metadata": {},
   "source": [
    "### Color\n",
    "Color can both help and hurt a data visualization.\n",
    "\n",
    "Three tips for using color effectively.\n",
    "- Before adding color to a visualization, start with black and white.\n",
    "- When using color, use less intense colors - not all the colors of the rainbow, which is the default in many software applications.\n",
    "- Color for communication. Use color to highlight your message and separate groups of interest. Don't add color just to have color in your visualization."
   ]
  },
  {
   "attachments": {},
   "cell_type": "markdown",
   "metadata": {},
   "source": [
    "### Color Blindness\n",
    "Color blindness is a condition where a person is unable to distinguish between certain colors. This can include:\n",
    "- Red and green\n",
    "- Blue and yellow"
   ]
  },
  {
   "attachments": {},
   "cell_type": "markdown",
   "metadata": {},
   "source": [
    "### Shape, Size, and Other Tools\n",
    "In addition to color, there are other tools that can be used to convey information in a visualization. These include:\n",
    "- Shape\n",
    "- Size\n",
    "- Orientation\n",
    "- Texture"
   ]
  },
  {
   "cell_type": "markdown",
   "metadata": {},
   "source": []
  }
 ],
 "metadata": {
  "language_info": {
   "name": "python"
  },
  "orig_nbformat": 4
 },
 "nbformat": 4,
 "nbformat_minor": 2
}

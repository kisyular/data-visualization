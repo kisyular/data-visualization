{
 "cells": [
  {
   "attachments": {},
   "cell_type": "markdown",
   "metadata": {},
   "source": [
    "# DATA VISUALIZATION WITH PYTHON"
   ]
  },
  {
   "attachments": {},
   "cell_type": "markdown",
   "metadata": {},
   "source": [
    "## LESSON 1: INTRODUCTION TO DATA VISUALIZATION\n",
    "Data visualization refers to the process of creating graphical representations of data in order to effectively communicate information and insights. This can include charts, graphs, maps, and other types of visualizations that make it easier to understand patterns, trends, and relationships within large sets of data."
   ]
  },
  {
   "attachments": {},
   "cell_type": "markdown",
   "metadata": {},
   "source": [
    "There are two main reasons for creating visuals using data:\n",
    "\n",
    "- **Exploratory analysis** is done when you are searching for insights. These visualizations don't need to be perfect. You are using plots to find insights, but they don't need to be aesthetically appealing. You are the consumer of these plots, and you need to be able to find the answer to your questions from these plots.\n",
    "  \n",
    "- **Explanatory analysis** is done when you are providing your results for others. These visualizations need to provide you the emphasis necessary to convey your message. They should be accurate, insightful, and visually appealing."
   ]
  },
  {
   "attachments": {},
   "cell_type": "markdown",
   "metadata": {},
   "source": [
    "There are five steps to **Data Analysis**:\n",
    "\n",
    "1. **Gathering Data** - Collecting data from a variety of sources, including databases, CSV files, and web pages.\n",
    "2. **Cleaning Data** - Fixing errors, removing duplicates, and filling in missing data.\n",
    "3. **Exploring Data** - Finding patterns, anomalies, and outliers.\n",
    "4. **Analyzing Data** - Using statistical methods to answer questions. Here, we can use **Explanatory** or **exploratory** visuals.\n",
    "5. **Share** - Share your **Explanatory** Visuals"
   ]
  },
  {
   "attachments": {},
   "cell_type": "markdown",
   "metadata": {},
   "source": [
    "### Python Data Visualization Libraries\n",
    "In this course, you will make use of the following libraries for creating data visualizations:\n",
    "\n",
    "- **Matplotlib**: a versatile library for visualizations, but it can take some coding effort to put together common visualizations.\n",
    "- **Seaborn**: built on top of matplotlib, adds a number of functions to make common statistical visualizations easier to generate.\n",
    "- **pandas**: while this library includes some convenient methods for visualizing data that hook into matplotlib, we'll mainly use it for its main purpose as a general tool for working with data."
   ]
  },
  {
   "cell_type": "markdown",
   "metadata": {},
   "source": []
  }
 ],
 "metadata": {
  "language_info": {
   "name": "python"
  },
  "orig_nbformat": 4
 },
 "nbformat": 4,
 "nbformat_minor": 2
}
